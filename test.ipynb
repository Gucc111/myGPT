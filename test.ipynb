{
 "cells": [
  {
   "cell_type": "code",
   "execution_count": 1,
   "id": "9088b5e1",
   "metadata": {},
   "outputs": [],
   "source": [
    "import torch\n",
    "import torch.nn as nn\n",
    "import mygpt_mt as g"
   ]
  },
  {
   "cell_type": "code",
   "execution_count": 2,
   "id": "6f6b261a",
   "metadata": {},
   "outputs": [],
   "source": [
    "import torch.nn.functional as F"
   ]
  },
  {
   "cell_type": "code",
   "execution_count": 3,
   "id": "6dda0eb7",
   "metadata": {},
   "outputs": [],
   "source": [
    "src_seq = torch.tensor([[47, 48, 5, 3, 1, 1, 1, 1, 1, 1, 1, 1, 1, 1, 1],\n",
    "                        [13, 25, 4, 3, 1, 1, 1, 1, 1, 1, 1, 1, 1, 1, 1],\n",
    "                        [86, 8, 4, 3, 1, 1, 1, 1, 1, 1, 1, 1, 1, 1, 1],\n",
    "                        [111, 12, 4, 3, 1, 1, 1, 1, 1, 1, 1, 1, 1, 1, 1],\n",
    "                        [105, 6, 9, 11, 3, 1, 1, 1, 1, 1, 1, 1, 1, 1, 1]])\n",
    "\n",
    "tgt_seq = torch.tensor([[17, 0, 5, 3, 1, 1, 1, 1, 1, 1, 1, 1, 1, 1, 1],\n",
    "                        [0, 5, 3, 1, 1, 1, 1, 1, 1, 1, 1, 1, 1, 1, 1],\n",
    "                        [0, 4, 3, 1, 1, 1, 1, 1, 1, 1, 1, 1, 1, 1, 1],\n",
    "                        [0, 4, 3, 1, 1, 1, 1, 1, 1, 1, 1, 1, 1, 1, 1],\n",
    "                        [87, 0, 0, 9, 3, 1, 1, 1, 1, 1, 1, 1, 1, 1, 1]])"
   ]
  },
  {
   "cell_type": "code",
   "execution_count": 4,
   "id": "ae5df501",
   "metadata": {},
   "outputs": [],
   "source": [
    "config = g.MyGPTConfig(src_vocab_size=184, tgt_vocab_size=201, n_layer=6, n_head=8, n_embd=512)"
   ]
  },
  {
   "cell_type": "code",
   "execution_count": 5,
   "id": "38e74146",
   "metadata": {},
   "outputs": [
    {
     "name": "stdout",
     "output_type": "stream",
     "text": [
      "number of parameters: 44.24M\n"
     ]
    }
   ],
   "source": [
    "mygpt = g.MyGPT(config)"
   ]
  },
  {
   "cell_type": "code",
   "execution_count": 6,
   "id": "00ccb145",
   "metadata": {},
   "outputs": [],
   "source": [
    "logits, loss = mygpt(src_seq, tgt_seq)"
   ]
  },
  {
   "cell_type": "code",
   "execution_count": 7,
   "id": "4112ae94",
   "metadata": {},
   "outputs": [],
   "source": [
    "idx = torch.tensor([[47, 48, 5, 3, 1, 1, 1, 1, 1, 1, 1, 1, 1, 1, 1],\n",
    "                        [13, 25, 4, 3, 1, 1, 1, 1, 1, 1, 1, 1, 1, 1, 1]])\n",
    "src_mask = g.get_pad_mask(idx, 1)\n",
    "\n",
    "tgt = torch.tensor([[2]]).repeat(idx.shape[0], 1)"
   ]
  },
  {
   "cell_type": "code",
   "execution_count": 8,
   "id": "7f9df0ce",
   "metadata": {},
   "outputs": [],
   "source": [
    "enc_output = mygpt.transformer.encoder(idx, mask=src_mask)"
   ]
  },
  {
   "cell_type": "code",
   "execution_count": 9,
   "id": "42d59746",
   "metadata": {},
   "outputs": [],
   "source": [
    "idx_cond = tgt\n",
    "# forward the model to get the logits for the index in the sequence\n",
    "tgt_mask = g.get_pad_mask(idx_cond, 1) & g.get_subsequent_mask(idx_cond)\n",
    "dec_output = mygpt.transformer.decoder(idx_cond, enc_output, self_mask=tgt_mask, cross_mask=tgt_mask)"
   ]
  },
  {
   "cell_type": "code",
   "execution_count": 13,
   "id": "5f0f6234",
   "metadata": {},
   "outputs": [
    {
     "data": {
      "text/plain": [
       "torch.Size([2, 1, 512])"
      ]
     },
     "execution_count": 13,
     "metadata": {},
     "output_type": "execute_result"
    }
   ],
   "source": [
    "dec_output.shape"
   ]
  }
 ],
 "metadata": {
  "kernelspec": {
   "display_name": "mygpt-mt",
   "language": "python",
   "name": "python3"
  },
  "language_info": {
   "codemirror_mode": {
    "name": "ipython",
    "version": 3
   },
   "file_extension": ".py",
   "mimetype": "text/x-python",
   "name": "python",
   "nbconvert_exporter": "python",
   "pygments_lexer": "ipython3",
   "version": "3.13.5"
  }
 },
 "nbformat": 4,
 "nbformat_minor": 5
}
